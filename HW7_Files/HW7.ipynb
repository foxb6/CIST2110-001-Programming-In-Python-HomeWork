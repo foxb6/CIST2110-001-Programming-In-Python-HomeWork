{
 "cells": [
  {
   "cell_type": "markdown",
   "metadata": {},
   "source": [
    "# HW7\n",
    "\n",
    "Name:"
   ]
  },
  {
   "cell_type": "code",
   "execution_count": 13,
   "metadata": {},
   "outputs": [],
   "source": [
    "# inside of the HW7_Files folder there is a text file called Dracula.txt that we will be using for this assignment\n",
    "\n",
    "# read in the Dracula.txt file and store it in a variable called dracula_text\n",
    "# Note the file is utf-8 encoded\n",
    "\n",
    "with open('Dracula.txt', 'r', encoding= 'utf-8') as file:\n",
    "    dracula_text= file.read()\n",
    "\n",
    "text= dracula_text\n",
    "\n"
   ]
  },
  {
   "cell_type": "code",
   "execution_count": 18,
   "metadata": {},
   "outputs": [],
   "source": [
    "# Create a method that will get the text inbetween the Gutenberg and START OF THIS PROJECT GUTENBERG EBOOK DRACULA lines. Name the method get_text(text) and have it return the text inbetween the two lines.\n",
    "# You can look for the following 2 strings:\n",
    "# *** START OF THE PROJECT GUTENBERG EBOOK DRACULA ***\n",
    "# *** END OF THE PROJECT GUTENBERG EBOOK DRACULA ***\n",
    "# Update the variable called dracula_text that is the result of calling the get_text method on the dracula_text variable\n",
    "def get_text(text):\n",
    "    start= text.find('*** START OF THE PROJECT GUTENBERG EBOOK DRACULA ***')\n",
    "    end= text.find('*** END OF THE PROJECT GUTENBERG EBOOK DRACULA ***')\n",
    "    return text[start:end]\n",
    "\n",
    "\n",
    "# Call the remove_gutenberg_header_footer method with the text and save the result to a variable called text\n",
    "fixed_text= get_text(text)"
   ]
  },
  {
   "cell_type": "code",
   "execution_count": 20,
   "metadata": {},
   "outputs": [],
   "source": [
    "# Clean the text by removing all punctuation and numbers. You can use the replace method to do this. Replace all punctuation and numbers with an empty string.\n",
    "words_cleaned = fixed_text.replace(\",\", \" \").replace(\".\", \" \").replace(\";\", \" \").replace(\":\", \" \").replace(\"!\", \" \").replace(\"?\", \" \").replace(\"'\", \" \").replace('\"', \" \").lower().split()\n"
   ]
  },
  {
   "cell_type": "code",
   "execution_count": 27,
   "metadata": {},
   "outputs": [
    {
     "name": "stdout",
     "output_type": "stream",
     "text": [
      "Total number of words in Chapter 5: 0\n",
      "1. Total number of words in the text: 163633\n",
      "2. Total number of unique words in the text: 11169\n",
      "3. Number of times the word 'vampire' is used in the text: 24\n",
      "4. Name of Chapter 5: \n"
     ]
    }
   ],
   "source": [
    "# Answer the following questions using python code:\n",
    "# 1. What is the total number of words in the text?\n",
    "\n",
    "total_words = len(words_cleaned)\n",
    "\n",
    "# 2. What is the total number of unique words in the text?\n",
    "\n",
    "unique_words = set(words_cleaned)\n",
    "total_unique_words = len(unique_words)\n",
    "\n",
    "# 3. How many times is the word 'vampire' used in the text?\n",
    "\n",
    "vampire_count = words_cleaned.count('vampire')\n",
    "\n",
    "# 4. What is the name of Chapter 5?\n",
    "# Note in the text chapters are in roman numerals (5 is V)\n",
    "\n",
    "start_chapter_v = fixed_text.find('CHAPTER V')\n",
    "end_chapter_v = fixed_text.find('CHAPTER VI')\n",
    "chapter_5_text = fixed_text[start_chapter_v:end_chapter_v].strip()\n",
    "\n",
    "# 5. What is the total number of words in Chapter 5?\n",
    "# Hints:\n",
    "# To get just the text for chapter 5 you can use slicing between the start and end of chapter 5\n",
    "# To find the start of chapter 5 you can use the find method to find the index of the string 'CHAPTER V'\n",
    "# To find the end of chapter 5 you can use the find method to find the index of the string 'CHAPTER VI'\n",
    "# Then you can use slicing to get the text inbetween the start and end of chapter 5\n",
    "# IE find 'CHAPTER V' : find 'CHAPTER VI'\n",
    "# Then find the length of the text for the result of the slicing\n",
    "\n",
    "start_index_chapter_v = fixed_text.find('CHAPTER V')\n",
    "start_index_chapter_v_second = fixed_text.find('CHAPTER V', start_index_chapter_v + 1)\n",
    "end_index_chapter_vi = fixed_text.find('CHAPTER VI', start_index_chapter_v_second)\n",
    "chapter_5_text = fixed_text[start_index_chapter_v_second:end_index_chapter_vi]\n",
    "chapter_5_words = chapter_5_text.replace(\",\", \" \").replace(\".\", \" \").replace(\";\", \" \").replace(\":\", \" \").replace(\"!\", \" \").replace(\"?\", \" \").replace(\"'\", \" \").replace('\"', \" \").lower().split()\n",
    "\n",
    "total_words_in_chapter_5 = len(chapter_5_words)\n",
    "\n",
    "print(\"Total number of words in Chapter 5:\", total_words_in_chapter_5)\n",
    "\n",
    "print(\"1. Total number of words in the text:\", total_words)\n",
    "print(\"2. Total number of unique words in the text:\", total_unique_words)\n",
    "print(\"3. Number of times the word 'vampire' is used in the text:\", vampire_count)\n",
    "print(\"4. Name of Chapter 5:\", chapter_5_text)\n"
   ]
  }
 ],
 "metadata": {
  "kernelspec": {
   "display_name": "venv",
   "language": "python",
   "name": "python3"
  },
  "language_info": {
   "codemirror_mode": {
    "name": "ipython",
    "version": 3
   },
   "file_extension": ".py",
   "mimetype": "text/x-python",
   "name": "python",
   "nbconvert_exporter": "python",
   "pygments_lexer": "ipython3",
   "version": "3.11.5"
  }
 },
 "nbformat": 4,
 "nbformat_minor": 2
}
